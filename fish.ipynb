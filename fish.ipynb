{
  "cells": [
    {
      "cell_type": "markdown",
      "metadata": {
        "id": "PKH--G0xnQcO"
      },
      "source": [
        "# Imports"
      ]
    },
    {
      "cell_type": "code",
      "execution_count": 2,
      "metadata": {
        "id": "Rk-iBbOunO9O"
      },
      "outputs": [],
      "source": [
        "import random"
      ]
    },
    {
      "cell_type": "markdown",
      "metadata": {
        "id": "83GM8-BYsY2N"
      },
      "source": [
        "# Cards"
      ]
    },
    {
      "cell_type": "code",
      "execution_count": 3,
      "metadata": {
        "id": "aHvuS88qsahU"
      },
      "outputs": [],
      "source": [
        "half_suits = {\n",
        "    \"eights\" : [\"H8\", \"C8\", \"S8\", \"D8\", \"RJ\", \"BJ\"],\n",
        "    \"low_clubs\" : [\"C2\", \"C3\", \"C4\", \"C5\", \"C6\", \"C7\"],\n",
        "    \"high_clubs\" : [\"C9\", \"C10\", \"CJ\", \"CQ\", \"CK\", \"CA\"],\n",
        "    \"low_hearts\" : [\"H2\", \"H3\", \"H4\", \"H5\", \"H6\", \"H7\"],\n",
        "    \"high_hearts\" : [\"H9\", \"H10\", \"HJ\", \"HQ\", \"HK\", \"HA\"],\n",
        "    \"low_spades\" : [\"S2\", \"S3\", \"S4\", \"S5\", \"S6\", \"S7\"],\n",
        "    \"high_spades\" : [\"S9\", \"S10\", \"SJ\", \"SQ\", \"SK\", \"SA\"],\n",
        "    \"low_diamonds\" : [\"D2\", \"D3\", \"D4\", \"D5\", \"D6\", \"D7\"],\n",
        "    \"high_diamonds\" : [\"D9\", \"D10\", \"DJ\", \"DQ\", \"DK\", \"DA\"]\n",
        "}\n",
        "\n",
        "standard_deck = [\"RJ\", \"BJ\", \"H2\", \"H3\", \"H4\", \"H5\", \"H6\", \"H7\", \"H8\", \"H9\", \"H10\", \"HJ\", \"HQ\", \"HK\", \"HA\",\n",
        "                 \"C2\", \"C3\", \"C4\", \"C5\", \"C6\", \"C7\", \"C8\", \"C9\", \"C10\", \"CJ\", \"CQ\", \"CK\", \"CA\",\n",
        "                 \"S2\", \"S3\", \"S4\", \"S5\", \"S6\", \"S7\", \"S8\", \"S9\", \"S10\", \"SJ\", \"SQ\", \"SK\", \"SA\",\n",
        "                 \"D2\", \"D3\", \"D4\", \"D5\", \"D6\", \"D7\", \"D8\", \"D9\", \"D10\", \"DJ\", \"DQ\", \"DK\", \"DA\"]\n",
        "\n",
        "# Might not need\n",
        "def in_same_half_suits(c1, c2):\n",
        "    for key in half_suits:\n",
        "        if c1 in half_suits[key] and c2 in half_suits[key]:\n",
        "            return True\n",
        "    return False\n",
        "\n",
        "def get_half_suit_from_card(card):\n",
        "    for half_suit in half_suits:\n",
        "        if card in half_suits[half_suit]:\n",
        "            return half_suit\n",
        "\n",
        "def have_card_in_half_suit(suit, hand):\n",
        "    for card in hand.cards:\n",
        "        if card in half_suits[suit]:\n",
        "            return True\n",
        "    return False"
      ]
    },
    {
      "cell_type": "markdown",
      "metadata": {
        "id": "NbcyNVsrOUPF"
      },
      "source": [
        "# Classes"
      ]
    },
    {
      "cell_type": "markdown",
      "metadata": {
        "id": "EbhUVJuZOY3z"
      },
      "source": [
        "## Hand Class"
      ]
    },
    {
      "cell_type": "code",
      "execution_count": 4,
      "metadata": {
        "id": "JkOuzP30LzgR"
      },
      "outputs": [],
      "source": [
        "class Hand:\n",
        "\tdef __init__(self, cards):\n",
        "\t\tself.cards = cards\n",
        "\n",
        "\tdef has_card(self, card):\n",
        "\t\treturn card in self.cards\n",
        "\n",
        "\tdef give_card(self, card):\n",
        "\t\tif self.has_card(card):\n",
        "\t\t\treturn self.cards.remove(card)\n",
        "\t\telse:\n",
        "\t\t\treturn \"\"\n",
        "\n",
        "\tdef take_card(self, card):\n",
        "\t\tself.cards.append(card)\n",
        "\n",
        "\tdef __str__(self):\n",
        "\t\treturn (f\"Cards: {self.cards}\")\n"
      ]
    },
    {
      "cell_type": "markdown",
      "metadata": {
        "id": "1lY6vt4dObTl"
      },
      "source": [
        "## Player Class"
      ]
    },
    {
      "cell_type": "code",
      "execution_count": 5,
      "metadata": {
        "id": "w7mWXNCENFy2"
      },
      "outputs": [],
      "source": [
        "class Player:\n",
        "\tdef __init__(self, hand):\n",
        "\t\tself.hand = hand\n",
        "\n",
        "\tdef __str__(self):\n",
        "\t\treturn self.hand.__str__()\n",
        "\n",
        "\tdef take_turn(self):\n",
        "\t\twhile True:\n",
        "\t\t\tcard = input(\"Ask for a card: \")\n",
        "\t\t\tif have_card_in_half_suit(get_half_suit_from_card(card)):\n",
        "\t\t\t\tbreak\n",
        "\t\tplayer = input(\"Which player? \")\n",
        "\t\treturn [card, player]"
      ]
    },
    {
      "cell_type": "markdown",
      "metadata": {
        "id": "5W60Oz-dOdeY"
      },
      "source": [
        "## Team Class"
      ]
    },
    {
      "cell_type": "code",
      "execution_count": 6,
      "metadata": {
        "colab": {
          "base_uri": "https://localhost:8080/"
        },
        "id": "AKd6r9TNNMyl",
        "outputId": "02562ff4-9deb-4f5f-992c-3726941e8ef2"
      },
      "outputs": [],
      "source": [
        "class Team:\n",
        "\tdef __init__(self, players):\n",
        "\t\tself.players = players\n",
        "\t\tself.half_suits = 0\n",
        "\n",
        "\tdef num_half_suits(self):\n",
        "\t\treturn self.half_suits\n",
        "\n",
        "\tdef add_half_suit(self):\n",
        "\t\tself.half_suits += 1\n",
        "\n",
        "\tdef __str__(self):\n",
        "\t\treturn f\"Player 1: {self.players[0]}\\nPlayer 2: {self.players[1]}\\nPlayer 3: {self.players[2]}\""
      ]
    },
    {
      "cell_type": "markdown",
      "metadata": {
        "id": "J72CAeE1mMF_"
      },
      "source": [
        "# Generate Hands"
      ]
    },
    {
      "cell_type": "code",
      "execution_count": 10,
      "metadata": {
        "id": "pR0LsrWEmO3S"
      },
      "outputs": [
        {
          "name": "stdout",
          "output_type": "stream",
          "text": [
            "Cards: ['S10', 'H8', 'D4', 'D9', 'DA', 'S6', 'BJ', 'DK', 'C8']\n"
          ]
        }
      ],
      "source": [
        "def gen_hands():\n",
        "\thands = []\n",
        "\tfor hand in range(6):\n",
        "\t\thands.append(Hand([]))\n",
        "\t\tfor card in range(9):\n",
        "\t\t\tchoice = random.choice(standard_deck)\n",
        "\t\t\tstandard_deck.remove(choice)\n",
        "\t\t\thands[hand].take_card(choice)\n",
        "\n",
        "\treturn hands\n"
      ]
    },
    {
      "cell_type": "markdown",
      "metadata": {
        "id": "Hu_ysyORl95h"
      },
      "source": [
        "# Main Game Loop"
      ]
    },
    {
      "cell_type": "code",
      "execution_count": null,
      "metadata": {
        "id": "FoTyxk-dmCpU"
      },
      "outputs": [],
      "source": [
        "def mainloop():\n",
        "  players = []\n",
        "  hands = gen_hands()\n",
        "  for player in range(6):\n",
        "    players.append(Player(hands[player]))\n",
        "  teams = [Team(players[0:2]), Team(players[3:5])]\n",
        "\n",
        "  current_team = 0\n",
        "  current_player = 0\n",
        "  while teams[0].num_half_suits < 5 or teams[1].num_half_suits < 5:\n",
        "    card, player = teams[current_team][current_player].take_turn()\n",
        "    if current_team == 0:\n",
        "      card = teams[1].players[player].hand.give_card(card)\n",
        "    else:\n",
        "      card = teams[0].players[player].hand.give_card(card)\n",
        "    \n",
        "    if card:\n",
        "      teams[current_team].players[current_player].hand.take_card(card)\n",
        "    else:\n",
        "      current_player = player\n",
        "      if current_team == 1:\n",
        "        current_team = 0\n",
        "      else:\n",
        "        current_team = 1\n",
        "\n",
        "\n",
        "\n",
        "  if teams[0].num_half_suits >= 5:\n",
        "    print(\"Team 0 wins!\")\n",
        "  else:\n",
        "    print(\"Team 1 wins!\")"
      ]
    },
    {
      "cell_type": "markdown",
      "metadata": {
        "id": "LjhRQ5jfluqW"
      },
      "source": [
        "# Run the game"
      ]
    },
    {
      "cell_type": "code",
      "execution_count": null,
      "metadata": {
        "id": "mhpKJMW0lyrW"
      },
      "outputs": [],
      "source": [
        "if __name__ == \"__main__\":\n",
        "  mainloop()"
      ]
    }
  ],
  "metadata": {
    "colab": {
      "collapsed_sections": [
        "PKH--G0xnQcO"
      ],
      "provenance": []
    },
    "kernelspec": {
      "display_name": "Python 3",
      "name": "python3"
    },
    "language_info": {
      "codemirror_mode": {
        "name": "ipython",
        "version": 3
      },
      "file_extension": ".py",
      "mimetype": "text/x-python",
      "name": "python",
      "nbconvert_exporter": "python",
      "pygments_lexer": "ipython3",
      "version": "3.10.13"
    }
  },
  "nbformat": 4,
  "nbformat_minor": 0
}
