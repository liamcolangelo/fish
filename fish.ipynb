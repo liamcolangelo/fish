{
  "nbformat": 4,
  "nbformat_minor": 0,
  "metadata": {
    "colab": {
      "provenance": [],
      "collapsed_sections": [
        "PKH--G0xnQcO"
      ]
    },
    "kernelspec": {
      "name": "python3",
      "display_name": "Python 3"
    },
    "language_info": {
      "name": "python"
    }
  },
  "cells": [
    {
      "cell_type": "markdown",
      "source": [
        "# Imports"
      ],
      "metadata": {
        "id": "PKH--G0xnQcO"
      }
    },
    {
      "cell_type": "code",
      "source": [
        "import random"
      ],
      "metadata": {
        "id": "Rk-iBbOunO9O"
      },
      "execution_count": null,
      "outputs": []
    },
    {
      "cell_type": "markdown",
      "source": [
        "# Cards"
      ],
      "metadata": {
        "id": "83GM8-BYsY2N"
      }
    },
    {
      "cell_type": "code",
      "source": [
        "standard_deck = [\"RJ\", \"BJ\", \"H2\", \"H3\", \"H4\", \"H5\", \"H6\", \"H7\", \"H8\", \"H9\", \"H10\", \"HJ\", \"HQ\", \"HK\", \"HA\",\n",
        "                 \"C2\", \"C3\", \"C4\", \"C5\", \"C6\", \"C7\", \"C8\", \"C9\", \"C10\", \"CJ\", \"CQ\", \"CK\", \"CA\",\n",
        "                 \"S2\", \"S3\", \"S4\", \"S5\", \"S6\", \"S7\", \"S8\", \"S9\", \"S10\", \"SJ\", \"SQ\", \"SK\", \"SA\",\n",
        "                 \"D2\", \"D3\", \"D4\", \"D5\", \"D6\", \"D7\", \"D8\", \"D9\", \"D10\", \"DJ\", \"DQ\", \"DK\", \"DA\"]"
      ],
      "metadata": {
        "id": "aHvuS88qsahU"
      },
      "execution_count": null,
      "outputs": []
    },
    {
      "cell_type": "markdown",
      "source": [
        "# Classes"
      ],
      "metadata": {
        "id": "NbcyNVsrOUPF"
      }
    },
    {
      "cell_type": "markdown",
      "source": [
        "## Hand Class"
      ],
      "metadata": {
        "id": "EbhUVJuZOY3z"
      }
    },
    {
      "cell_type": "code",
      "execution_count": null,
      "metadata": {
        "id": "JkOuzP30LzgR"
      },
      "outputs": [],
      "source": [
        "class Hand:\n",
        "  def __init__(self, cards):\n",
        "    self.cards = cards\n",
        "\n",
        "  def has_card(self, card):\n",
        "    return card in self.cards\n",
        "\n",
        "  def give_card(self, card):\n",
        "    if self.has_card(card):\n",
        "      return self.cards.remove(card)\n",
        "    else:\n",
        "      return \"\"\n",
        "\n",
        "  def take_card(self, card):\n",
        "    self.cards.append(card)\n",
        "\n",
        "  def __str__(self):\n",
        "    return (f\"Cards: {self.cards}\")\n"
      ]
    },
    {
      "cell_type": "markdown",
      "source": [
        "## Player Class"
      ],
      "metadata": {
        "id": "1lY6vt4dObTl"
      }
    },
    {
      "cell_type": "code",
      "source": [
        "class Player:\n",
        "  def __init__(self, hand):\n",
        "    self.hand = hand\n",
        "\n",
        "  def __str__(self):\n",
        "    return self.hand.__str__()\n",
        "\n",
        "  def take_turn(self):\n",
        "    card = input(\"Ask for a card: \")\n",
        "    player = input(\"Which player? \")\n",
        "    return [card, player]"
      ],
      "metadata": {
        "id": "w7mWXNCENFy2"
      },
      "execution_count": null,
      "outputs": []
    },
    {
      "cell_type": "markdown",
      "source": [
        "## Team Class"
      ],
      "metadata": {
        "id": "5W60Oz-dOdeY"
      }
    },
    {
      "cell_type": "code",
      "source": [
        "class Team:\n",
        "  def __init__(self, players):\n",
        "    self.players = players\n",
        "    self.half_suits = 0\n",
        "\n",
        "  def num_half_suits(self):\n",
        "    return self.half_suits\n",
        "\n",
        "  def add_half_suit(self):\n",
        "    self.half_suits += 1\n",
        "\n",
        "  def __str__(self):\n",
        "    return f\"Player 1: {self.players[0]}\\nPlayer 2: {self.players[1]}\\nPlayer 3: {self.players[2]}\""
      ],
      "metadata": {
        "colab": {
          "base_uri": "https://localhost:8080/"
        },
        "id": "AKd6r9TNNMyl",
        "outputId": "02562ff4-9deb-4f5f-992c-3726941e8ef2"
      },
      "execution_count": null,
      "outputs": [
        {
          "output_type": "stream",
          "name": "stdout",
          "text": [
            "Cards: [5, 5, 5, 5]\n",
            "Cards: [5, 5, 5, 5]\n"
          ]
        }
      ]
    },
    {
      "cell_type": "markdown",
      "source": [
        "# Generate Hands"
      ],
      "metadata": {
        "id": "J72CAeE1mMF_"
      }
    },
    {
      "cell_type": "code",
      "source": [
        "def gen_hands():\n",
        "  deck = []\n",
        "  for i in range(54):\n",
        "    deck.append(i)\n",
        "  hands = []\n",
        "  for player in range(6):\n",
        "    hands.append([])\n",
        "    for card in range(9):\n",
        "      choice = random.choice(deck)\n",
        "      hands[player].append(choice)\n",
        "      deck.remove(choice)\n",
        "  Hands = []\n",
        "  for hand in hands:\n",
        "    Hands.append(Hand(hand))\n",
        "  return Hands"
      ],
      "metadata": {
        "id": "pR0LsrWEmO3S"
      },
      "execution_count": null,
      "outputs": []
    },
    {
      "cell_type": "markdown",
      "source": [
        "# Main Game Loop"
      ],
      "metadata": {
        "id": "Hu_ysyORl95h"
      }
    },
    {
      "cell_type": "code",
      "source": [
        "def mainloop():\n",
        "  players = []\n",
        "  hands = gen_hands()\n",
        "  for player in range(6):\n",
        "    players.append(Player(hands[player]))\n",
        "  teams = [Team(players[0:2]), Team(players[3:5])]\n",
        "\n",
        "  current_team = 0\n",
        "  current_player = 0\n",
        "  while teams[0].num_half_suits < 5 or teams[1].num_half_suits < 5:\n",
        "    correct, player = teams[current_team][current_player].take_turn()\n",
        "    if not correct:\n",
        "      current_player = player\n",
        "      if current_team == 0:\n",
        "        current_team = 1\n",
        "      else:\n",
        "        current_team = 0\n",
        "\n",
        "  if teams[0].num_half_suits >= 5:\n",
        "    print(\"Team 0 wins!\")\n",
        "  else:\n",
        "    print(\"Team 1 wins!\")"
      ],
      "metadata": {
        "id": "FoTyxk-dmCpU"
      },
      "execution_count": null,
      "outputs": []
    },
    {
      "cell_type": "markdown",
      "source": [
        "# Run the game"
      ],
      "metadata": {
        "id": "LjhRQ5jfluqW"
      }
    },
    {
      "cell_type": "code",
      "source": [
        "if __name__ == \"__main__\":\n",
        "  mainloop()"
      ],
      "metadata": {
        "id": "mhpKJMW0lyrW"
      },
      "execution_count": null,
      "outputs": []
    }
  ]
}